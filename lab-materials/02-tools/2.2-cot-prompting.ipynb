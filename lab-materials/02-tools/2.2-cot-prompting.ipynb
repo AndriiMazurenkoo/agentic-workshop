{
 "cells": [
  {
   "cell_type": "markdown",
   "id": "766aaa81-96e6-42dc-b29d-8216d2a7feec",
   "metadata": {},
   "source": [
    "## 2.2 - ReAct Prompting"
   ]
  },
  {
   "cell_type": "markdown",
   "id": "0022f3fb-ee50-40f2-b276-b8194668e49e",
   "metadata": {},
   "source": [
    "## Preparation"
   ]
  },
  {
   "cell_type": "code",
   "execution_count": 1,
   "id": "a16ed2e6",
   "metadata": {
    "tags": []
   },
   "outputs": [
    {
     "name": "stdout",
     "output_type": "stream",
     "text": [
      "\u001b[31mERROR: pip's dependency resolver does not currently take into account all the packages that are installed. This behaviour is the source of the following dependency conflicts.\n",
      "langchain-experimental 0.0.65 requires langchain-community<0.3.0,>=0.2.16, but you have langchain-community 0.3.5 which is incompatible.\n",
      "langchain-community 0.3.5 requires langchain<0.4.0,>=0.3.6, but you have langchain 0.2.17 which is incompatible.\n",
      "langchain-community 0.3.5 requires langchain-core<0.4.0,>=0.3.15, but you have langchain-core 0.2.43 which is incompatible.\u001b[0m\u001b[31m\n",
      "\u001b[0m\n",
      "\u001b[1m[\u001b[0m\u001b[34;49mnotice\u001b[0m\u001b[1;39;49m]\u001b[0m\u001b[39;49m A new release of pip available: \u001b[0m\u001b[31;49m22.2.2\u001b[0m\u001b[39;49m -> \u001b[0m\u001b[32;49m24.3.1\u001b[0m\n",
      "\u001b[1m[\u001b[0m\u001b[34;49mnotice\u001b[0m\u001b[1;39;49m]\u001b[0m\u001b[39;49m To update, run: \u001b[0m\u001b[32;49mpip install --upgrade pip\u001b[0m\n"
     ]
    }
   ],
   "source": [
    "#!pip install -q langchain==0.1.9 openai==1.13.3\n",
    "!pip install -q langchain-openai langchain\n",
    "#!pip uninstall langchain openai"
   ]
  },
  {
   "cell_type": "code",
   "execution_count": 2,
   "id": "60bb3f0f-40b5-49a6-b493-5e361db0113e",
   "metadata": {
    "tags": []
   },
   "outputs": [],
   "source": [
    "# Imports\n",
    "import json\n",
    "import os\n",
    "from os import listdir\n",
    "from os.path import isfile, join\n",
    "from langchain.chains import LLMChain\n",
    "#from langchain_community.llms import VLLMOpenAI\n",
    "from langchain_openai import ChatOpenAI\n",
    "from langchain.callbacks.streaming_stdout import StreamingStdOutCallbackHandler\n",
    "from langchain.prompts import PromptTemplate"
   ]
  },
  {
   "cell_type": "code",
   "execution_count": 3,
   "id": "7b908fd0-01dd-4ad2-b745-b3a4c56a7a7e",
   "metadata": {
    "tags": []
   },
   "outputs": [],
   "source": [
    "INFERENCE_SERVER_URL = \"https://mistral-7b-instruct-v0-3-maas-apicast-production.apps.prod.rhoai.rh-aiservices-bu.com:443\"\n",
    "MODEL_NAME = \"mistral-7b-instruct\"\n",
    "API_KEY= os.getenv('API_KEY')"
   ]
  },
  {
   "cell_type": "markdown",
   "id": "472b2f3f-ac23-4531-984b-6e8357233992",
   "metadata": {},
   "source": [
    "#### Create the LLM instance"
   ]
  },
  {
   "cell_type": "code",
   "execution_count": 4,
   "id": "01baa2b8-529d-455d-ad39-ef4a96dbaf97",
   "metadata": {
    "tags": []
   },
   "outputs": [],
   "source": [
    "# LLM definition\n",
    "llm = ChatOpenAI(\n",
    "    openai_api_key=API_KEY,\n",
    "    openai_api_base= f\"{INFERENCE_SERVER_URL}/v1\",\n",
    "    model_name=MODEL_NAME,\n",
    "    top_p=0.92,\n",
    "    temperature=0.01,\n",
    "    max_tokens=512,\n",
    "    presence_penalty=1.03,\n",
    "    streaming=True,\n",
    "    callbacks=[StreamingStdOutCallbackHandler()]\n",
    ")"
   ]
  },
  {
   "cell_type": "markdown",
   "id": "d211bd1f-3e55-41ce-b3bc-0ee5db689c66",
   "metadata": {},
   "source": [
    "#### Create the Prompt"
   ]
  },
  {
   "cell_type": "code",
   "execution_count": 15,
   "id": "fdd8bc4c-b353-4a51-a8b7-6cb348e19623",
   "metadata": {
    "tags": []
   },
   "outputs": [],
   "source": [
    "template=\"\"\"<s>[INST]<<SYS>>\n",
    "You are a helpful, respectful and honest assistant. Always be as helpful as possible, while being safe.\n",
    "You will be asked a question, to which you must give an answer.\n",
    "Your answer should not include any harmful, unethical, racist, sexist, toxic, dangerous, or illegal content.\n",
    "Please ensure that your responses are socially unbiased and positive in nature.\n",
    "If a question does not make any sense, or is not factually coherent, explain why instead of answering something not correct but in a simple way and very concise\n",
    "If you don't know the answer to a question, answer \"I don't know\".\n",
    "<</SYS>>\n",
    "\n",
    "### QUESTION:\n",
    "{input}\n",
    "\n",
    "### ANSWER:\n",
    "[/INST]\n",
    "\"\"\"\n",
    "PROMPT_LLM = PromptTemplate(input_variables=[\"input\"], template=template)"
   ]
  },
  {
   "cell_type": "markdown",
   "id": "c240fd72-f910-4ba4-82dc-c5ebf278452b",
   "metadata": {
    "tags": []
   },
   "source": [
    "## First Query to LLMs"
   ]
  },
  {
   "cell_type": "markdown",
   "id": "af5cb39d-1639-4713-8423-4ea4925ef6d1",
   "metadata": {},
   "source": [
    "#### Create the Chain using the different components"
   ]
  },
  {
   "cell_type": "code",
   "execution_count": 16,
   "id": "f875c62b-931a-402e-9494-98b7296f8b2b",
   "metadata": {
    "tags": []
   },
   "outputs": [],
   "source": [
    "conversation = LLMChain(llm=llm,\n",
    "                            prompt=PROMPT_LLM,\n",
    "                            verbose=False,\n",
    "                            )"
   ]
  },
  {
   "cell_type": "markdown",
   "id": "969484f2-1f55-4021-a995-1d529cf9cc54",
   "metadata": {},
   "source": [
    "#### Let's talk..."
   ]
  },
  {
   "cell_type": "code",
   "execution_count": 17,
   "id": "ee09847d-9ff7-4181-ad11-96186bf0a322",
   "metadata": {
    "tags": []
   },
   "outputs": [
    {
     "name": "stdout",
     "output_type": "stream",
     "text": [
      " I'm sorry to hear about the issue with your order. To get a replacement for a damaged product, you should contact the seller or the customer service of the company from which you purchased the item. They will likely ask for photos of the damage and may require the original order number or receipt. Once you provide them with this information, they should be able to help you with a replacement or a refund. If you're unsure how to reach out to them, check their website or contact details provided in your order confirmation email."
     ]
    }
   ],
   "source": [
    "first_input = \"I received a damaged product in my recent order. What should I do to get a replacement?\"\n",
    "conversation.predict(input=first_input);"
   ]
  },
  {
   "cell_type": "markdown",
   "id": "53514c74-27fd-48f7-8f74-dcc96b4856bb",
   "metadata": {
    "tags": []
   },
   "source": [
    "#### LLM with Chain of Thought in the Prompt"
   ]
  },
  {
   "cell_type": "code",
   "execution_count": 24,
   "id": "60ed6c44-a016-49bd-8623-f231c5bba5b6",
   "metadata": {
    "tags": []
   },
   "outputs": [],
   "source": [
    "template=\"\"\"<s>[INST]<<SYS>>\n",
    "You are a helpful, respectful, and honest assistant. Always be as helpful as possible while being safe.\n",
    "You will be asked a question, to which you must give an answer.\n",
    "Your answer should not include any harmful, unethical, racist, sexist, toxic, dangerous, or illegal content.\n",
    "Please ensure that your responses are socially unbiased and positive in nature.\n",
    "When answering, think step-by-step and explain your reasoning before providing the final answer.\n",
    "Explain it with bullet points if it's needed but using reasoning and step-by-step.\n",
    "If a question does not make any sense, or is not factually coherent, explain why instead of answering something incorrect.\n",
    "If you don't know the answer to a question, answer \"I don't know\".\n",
    "<</SYS>>\n",
    "\n",
    "### QUESTION:\n",
    "{input}\n",
    "\n",
    "### ANSWER:\n",
    "[/INST]\n",
    "\"\"\"\n",
    "PROMPT_COT = PromptTemplate(input_variables=[\"input\"], template=template)"
   ]
  },
  {
   "cell_type": "markdown",
   "id": "06992d19-a605-421b-a560-7082a3f12a6b",
   "metadata": {
    "tags": []
   },
   "source": [
    "##### Chain of Thought Prompt\n",
    "* When answering, think step-by-step and explain your reasoning before providing the final answer.\n",
    "* Explain it with bullet points if it's needed but using reasoning and step-by-step."
   ]
  },
  {
   "cell_type": "code",
   "execution_count": 27,
   "id": "cd3dba1b-7d9d-4c1f-b3f2-61b3385f7d7a",
   "metadata": {
    "tags": []
   },
   "outputs": [],
   "source": [
    "conversation_cot = LLMChain(llm=llm,\n",
    "                            prompt=PROMPT_COT,\n",
    "                            verbose=False,\n",
    "                            )"
   ]
  },
  {
   "cell_type": "code",
   "execution_count": 28,
   "id": "98984cb8-b119-4770-a948-2779f211c519",
   "metadata": {
    "tags": []
   },
   "outputs": [
    {
     "name": "stdout",
     "output_type": "stream",
     "text": [
      " To get a replacement for a damaged product in your recent order, follow these steps:\n",
      "\n",
      "1. Document the damage: Take clear and detailed photos of the damaged product from different angles. This will serve as evidence when you contact the seller or customer service.\n",
      "\n",
      "2. Contact the seller or customer service: Reach out to the seller or the platform's customer service (e.g., Amazon, eBay) through their official channels, such as email, phone, or chat support. Provide them with the order number, a brief description of the issue, and attach the photos of the damaged product.\n",
      "\n",
      "3. Explain the problem: Clearly explain the issue with the product and why it is damaged. Be polite and professional in your communication.\n",
      "\n",
      "4. Request a replacement: Ask the seller or customer service representative if they can provide a replacement for the damaged product. If they agree, ask about the process for receiving the replacement, including shipping costs, estimated delivery time, and return instructions for the damaged item.\n",
      "\n",
      "5. Follow their instructions: Once you have received instructions on how to proceed, follow them carefully. This may include returning the damaged product, providing additional information, or waiting for further communication from the seller or customer service.\n",
      "\n",
      "6. Keep records: Keep a record of all correspondence with the seller or customer service, including emails, chat logs, and any other relevant documents. This will help you resolve any potential issues that may arise during the replacement process.\n",
      "\n",
      "7. Be patient: The replacement process may take some time, so be patient and follow up if necessary. If you do not receive a response within a reasonable amount of time, try reaching out again through a different channel or escalating the issue to a supervisor or higher authority.\n",
      "\n",
      "8. Leave feedback: After the issue has been resolved, leave positive feedback for the seller or customer service to show appreciation for their assistance. This will help other customers make informed decisions when purchasing products from the same seller."
     ]
    }
   ],
   "source": [
    "first_input = \"I received a damaged product in my recent order. What should I do to get a replacement?\"\n",
    "conversation_cot.predict(input=first_input);"
   ]
  },
  {
   "cell_type": "markdown",
   "id": "8d1224be-28a5-46b4-9fe1-db6e1676bd47",
   "metadata": {},
   "source": [
    "## What's Next?\n",
    "\n",
    "Let's head over to give our LLM Conversational Memory!"
   ]
  }
 ],
 "metadata": {
  "kernelspec": {
   "display_name": "Python 3.9",
   "language": "python",
   "name": "python3"
  },
  "language_info": {
   "codemirror_mode": {
    "name": "ipython",
    "version": 3
   },
   "file_extension": ".py",
   "mimetype": "text/x-python",
   "name": "python",
   "nbconvert_exporter": "python",
   "pygments_lexer": "ipython3",
   "version": "3.9.18"
  }
 },
 "nbformat": 4,
 "nbformat_minor": 5
}
