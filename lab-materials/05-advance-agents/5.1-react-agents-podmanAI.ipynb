{
 "cells": [
  {
   "cell_type": "markdown",
   "id": "6210f6d4-0375-486e-ba37-8c25c5f18f10",
   "metadata": {},
   "source": [
    "#### Installing Required Packages"
   ]
  },
  {
   "cell_type": "markdown",
   "id": "766aaa81-96e6-42dc-b29d-8216d2a7feec",
   "metadata": {},
   "source": [
    "## 5.1 ReAct Agents (Prebuilt Agents)"
   ]
  },
  {
   "cell_type": "code",
   "execution_count": 1,
   "id": "a16ed2e6",
   "metadata": {
    "tags": []
   },
   "outputs": [
    {
     "name": "stdout",
     "output_type": "stream",
     "text": [
      "Defaulting to user installation because normal site-packages is not writeable\n",
      "Requirement already satisfied: langchain-openai in /Users/rcarrata/Library/Python/3.9/lib/python/site-packages (0.1.25)\n",
      "Requirement already satisfied: termcolor in /Users/rcarrata/Library/Python/3.9/lib/python/site-packages (2.5.0)\n",
      "Requirement already satisfied: langchain_community in /Users/rcarrata/Library/Python/3.9/lib/python/site-packages (0.2.19)\n",
      "Requirement already satisfied: duckduckgo_search in /Users/rcarrata/Library/Python/3.9/lib/python/site-packages (6.3.6)\n",
      "Requirement already satisfied: wikipedia in /Users/rcarrata/Library/Python/3.9/lib/python/site-packages (1.4.0)\n",
      "Requirement already satisfied: openapi-python-client==0.12.3 in /Users/rcarrata/Library/Python/3.9/lib/python/site-packages (0.12.3)\n",
      "Requirement already satisfied: langgraph in /Users/rcarrata/Library/Python/3.9/lib/python/site-packages (0.2.35)\n",
      "Requirement already satisfied: langchain_experimental in /Users/rcarrata/Library/Python/3.9/lib/python/site-packages (0.0.65)\n",
      "Requirement already satisfied: yfinance in /Users/rcarrata/Library/Python/3.9/lib/python/site-packages (0.2.50)\n",
      "Requirement already satisfied: PyYAML<7.0,>=6.0 in /Users/rcarrata/Library/Python/3.9/lib/python/site-packages (from openapi-python-client==0.12.3) (6.0.2)\n",
      "Requirement already satisfied: attrs>=21.3.0 in /Users/rcarrata/Library/Python/3.9/lib/python/site-packages (from openapi-python-client==0.12.3) (24.2.0)\n",
      "Requirement already satisfied: autoflake<3.0.0,>=1.4 in /Users/rcarrata/Library/Python/3.9/lib/python/site-packages (from openapi-python-client==0.12.3) (2.3.1)\n",
      "Requirement already satisfied: black in /Users/rcarrata/Library/Python/3.9/lib/python/site-packages (from openapi-python-client==0.12.3) (24.10.0)\n",
      "Requirement already satisfied: httpx<0.24.0,>=0.15.4 in /Users/rcarrata/Library/Python/3.9/lib/python/site-packages (from openapi-python-client==0.12.3) (0.23.3)\n",
      "Requirement already satisfied: isort<6.0.0,>=5.0.5 in /Users/rcarrata/Library/Python/3.9/lib/python/site-packages (from openapi-python-client==0.12.3) (5.13.2)\n",
      "Requirement already satisfied: jinja2<4.0.0,>=3.0.0 in /Users/rcarrata/Library/Python/3.9/lib/python/site-packages (from openapi-python-client==0.12.3) (3.1.4)\n",
      "Requirement already satisfied: pydantic<2.0.0,>=1.6.1 in /Users/rcarrata/Library/Python/3.9/lib/python/site-packages (from openapi-python-client==0.12.3) (1.10.19)\n",
      "Requirement already satisfied: python-dateutil<3.0.0,>=2.8.1 in /Users/rcarrata/Library/Python/3.9/lib/python/site-packages (from openapi-python-client==0.12.3) (2.9.0.post0)\n",
      "Requirement already satisfied: shellingham<2.0.0,>=1.3.2 in /Users/rcarrata/Library/Python/3.9/lib/python/site-packages (from openapi-python-client==0.12.3) (1.5.4)\n",
      "Requirement already satisfied: typer<0.8.0,>=0.6 in /Users/rcarrata/Library/Python/3.9/lib/python/site-packages (from openapi-python-client==0.12.3) (0.7.0)\n",
      "Requirement already satisfied: langchain-core<0.3.0,>=0.2.40 in /Users/rcarrata/Library/Python/3.9/lib/python/site-packages (from langchain-openai) (0.2.43)\n",
      "Requirement already satisfied: openai<2.0.0,>=1.40.0 in /Users/rcarrata/Library/Python/3.9/lib/python/site-packages (from langchain-openai) (1.55.0)\n",
      "Requirement already satisfied: tiktoken<1,>=0.7 in /Users/rcarrata/Library/Python/3.9/lib/python/site-packages (from langchain-openai) (0.8.0)\n",
      "Requirement already satisfied: SQLAlchemy<3,>=1.4 in /Users/rcarrata/Library/Python/3.9/lib/python/site-packages (from langchain_community) (2.0.35)\n",
      "Requirement already satisfied: aiohttp<4.0.0,>=3.8.3 in /Users/rcarrata/Library/Python/3.9/lib/python/site-packages (from langchain_community) (3.11.7)\n",
      "Requirement already satisfied: dataclasses-json<0.7,>=0.5.7 in /Users/rcarrata/Library/Python/3.9/lib/python/site-packages (from langchain_community) (0.6.7)\n",
      "Requirement already satisfied: langchain<0.3.0,>=0.2.17 in /Users/rcarrata/Library/Python/3.9/lib/python/site-packages (from langchain_community) (0.2.17)\n",
      "Requirement already satisfied: langsmith<0.2.0,>=0.1.112 in /Users/rcarrata/Library/Python/3.9/lib/python/site-packages (from langchain_community) (0.1.145)\n",
      "Requirement already satisfied: numpy<2,>=1 in /Users/rcarrata/Library/Python/3.9/lib/python/site-packages (from langchain_community) (1.26.4)\n",
      "Requirement already satisfied: requests<3,>=2 in /Users/rcarrata/Library/Python/3.9/lib/python/site-packages (from langchain_community) (2.32.3)\n",
      "Requirement already satisfied: tenacity!=8.4.0,<9.0.0,>=8.1.0 in /Users/rcarrata/Library/Python/3.9/lib/python/site-packages (from langchain_community) (8.5.0)\n",
      "Requirement already satisfied: click>=8.1.7 in /Users/rcarrata/Library/Python/3.9/lib/python/site-packages (from duckduckgo_search) (8.1.7)\n",
      "Requirement already satisfied: primp>=0.8.0 in /Users/rcarrata/Library/Python/3.9/lib/python/site-packages (from duckduckgo_search) (0.8.0)\n",
      "Requirement already satisfied: beautifulsoup4 in /Users/rcarrata/Library/Python/3.9/lib/python/site-packages (from wikipedia) (4.12.3)\n",
      "Requirement already satisfied: langgraph-checkpoint<3.0.0,>=2.0.0 in /Users/rcarrata/Library/Python/3.9/lib/python/site-packages (from langgraph) (2.0.5)\n",
      "Requirement already satisfied: pandas>=1.3.0 in /Users/rcarrata/Library/Python/3.9/lib/python/site-packages (from yfinance) (2.2.3)\n",
      "Requirement already satisfied: multitasking>=0.0.7 in /Users/rcarrata/Library/Python/3.9/lib/python/site-packages (from yfinance) (0.0.11)\n",
      "Requirement already satisfied: lxml>=4.9.1 in /Users/rcarrata/Library/Python/3.9/lib/python/site-packages (from yfinance) (5.3.0)\n",
      "Requirement already satisfied: platformdirs>=2.0.0 in /Users/rcarrata/Library/Python/3.9/lib/python/site-packages (from yfinance) (4.3.6)\n",
      "Requirement already satisfied: pytz>=2022.5 in /Users/rcarrata/Library/Python/3.9/lib/python/site-packages (from yfinance) (2024.2)\n",
      "Requirement already satisfied: frozendict>=2.3.4 in /Users/rcarrata/Library/Python/3.9/lib/python/site-packages (from yfinance) (2.4.6)\n",
      "Requirement already satisfied: peewee>=3.16.2 in /Users/rcarrata/Library/Python/3.9/lib/python/site-packages (from yfinance) (3.17.8)\n",
      "Requirement already satisfied: html5lib>=1.1 in /Users/rcarrata/Library/Python/3.9/lib/python/site-packages (from yfinance) (1.1)\n",
      "Requirement already satisfied: aiohappyeyeballs>=2.3.0 in /Users/rcarrata/Library/Python/3.9/lib/python/site-packages (from aiohttp<4.0.0,>=3.8.3->langchain_community) (2.4.3)\n",
      "Requirement already satisfied: aiosignal>=1.1.2 in /Users/rcarrata/Library/Python/3.9/lib/python/site-packages (from aiohttp<4.0.0,>=3.8.3->langchain_community) (1.3.1)\n",
      "Requirement already satisfied: async-timeout<6.0,>=4.0 in /Users/rcarrata/Library/Python/3.9/lib/python/site-packages (from aiohttp<4.0.0,>=3.8.3->langchain_community) (4.0.3)\n",
      "Requirement already satisfied: frozenlist>=1.1.1 in /Users/rcarrata/Library/Python/3.9/lib/python/site-packages (from aiohttp<4.0.0,>=3.8.3->langchain_community) (1.5.0)\n",
      "Requirement already satisfied: multidict<7.0,>=4.5 in /Users/rcarrata/Library/Python/3.9/lib/python/site-packages (from aiohttp<4.0.0,>=3.8.3->langchain_community) (6.1.0)\n",
      "Requirement already satisfied: propcache>=0.2.0 in /Users/rcarrata/Library/Python/3.9/lib/python/site-packages (from aiohttp<4.0.0,>=3.8.3->langchain_community) (0.2.0)\n",
      "Requirement already satisfied: yarl<2.0,>=1.17.0 in /Users/rcarrata/Library/Python/3.9/lib/python/site-packages (from aiohttp<4.0.0,>=3.8.3->langchain_community) (1.18.0)\n",
      "Requirement already satisfied: pyflakes>=3.0.0 in /Users/rcarrata/Library/Python/3.9/lib/python/site-packages (from autoflake<3.0.0,>=1.4->openapi-python-client==0.12.3) (3.2.0)\n",
      "Requirement already satisfied: tomli>=2.0.1 in /Users/rcarrata/Library/Python/3.9/lib/python/site-packages (from autoflake<3.0.0,>=1.4->openapi-python-client==0.12.3) (2.1.0)\n",
      "Requirement already satisfied: soupsieve>1.2 in /Users/rcarrata/Library/Python/3.9/lib/python/site-packages (from beautifulsoup4->wikipedia) (2.6)\n",
      "Requirement already satisfied: marshmallow<4.0.0,>=3.18.0 in /Users/rcarrata/Library/Python/3.9/lib/python/site-packages (from dataclasses-json<0.7,>=0.5.7->langchain_community) (3.23.1)\n",
      "Requirement already satisfied: typing-inspect<1,>=0.4.0 in /Users/rcarrata/Library/Python/3.9/lib/python/site-packages (from dataclasses-json<0.7,>=0.5.7->langchain_community) (0.9.0)\n",
      "Requirement already satisfied: six>=1.9 in /Library/Developer/CommandLineTools/Library/Frameworks/Python3.framework/Versions/3.9/lib/python3.9/site-packages (from html5lib>=1.1->yfinance) (1.15.0)\n",
      "Requirement already satisfied: webencodings in /Users/rcarrata/Library/Python/3.9/lib/python/site-packages (from html5lib>=1.1->yfinance) (0.5.1)\n",
      "Requirement already satisfied: certifi in /Users/rcarrata/Library/Python/3.9/lib/python/site-packages (from httpx<0.24.0,>=0.15.4->openapi-python-client==0.12.3) (2024.8.30)\n",
      "Requirement already satisfied: httpcore<0.17.0,>=0.15.0 in /Users/rcarrata/Library/Python/3.9/lib/python/site-packages (from httpx<0.24.0,>=0.15.4->openapi-python-client==0.12.3) (0.16.3)\n",
      "Requirement already satisfied: rfc3986<2,>=1.3 in /Users/rcarrata/Library/Python/3.9/lib/python/site-packages (from rfc3986[idna2008]<2,>=1.3->httpx<0.24.0,>=0.15.4->openapi-python-client==0.12.3) (1.5.0)\n",
      "Requirement already satisfied: sniffio in /Users/rcarrata/Library/Python/3.9/lib/python/site-packages (from httpx<0.24.0,>=0.15.4->openapi-python-client==0.12.3) (1.3.1)\n",
      "Requirement already satisfied: MarkupSafe>=2.0 in /Users/rcarrata/Library/Python/3.9/lib/python/site-packages (from jinja2<4.0.0,>=3.0.0->openapi-python-client==0.12.3) (3.0.2)\n",
      "Requirement already satisfied: langchain-text-splitters<0.3.0,>=0.2.0 in /Users/rcarrata/Library/Python/3.9/lib/python/site-packages (from langchain<0.3.0,>=0.2.17->langchain_community) (0.2.4)\n",
      "Requirement already satisfied: jsonpatch<2.0,>=1.33 in /Users/rcarrata/Library/Python/3.9/lib/python/site-packages (from langchain-core<0.3.0,>=0.2.40->langchain-openai) (1.33)\n",
      "Requirement already satisfied: packaging<25,>=23.2 in /Users/rcarrata/Library/Python/3.9/lib/python/site-packages (from langchain-core<0.3.0,>=0.2.40->langchain-openai) (24.2)\n",
      "Requirement already satisfied: typing-extensions>=4.7 in /Users/rcarrata/Library/Python/3.9/lib/python/site-packages (from langchain-core<0.3.0,>=0.2.40->langchain-openai) (4.12.2)\n",
      "Requirement already satisfied: msgpack<2.0.0,>=1.1.0 in /Users/rcarrata/Library/Python/3.9/lib/python/site-packages (from langgraph-checkpoint<3.0.0,>=2.0.0->langgraph) (1.1.0)\n",
      "Requirement already satisfied: orjson<4.0.0,>=3.9.14 in /Users/rcarrata/Library/Python/3.9/lib/python/site-packages (from langsmith<0.2.0,>=0.1.112->langchain_community) (3.10.12)\n",
      "Requirement already satisfied: requests-toolbelt<2.0.0,>=1.0.0 in /Users/rcarrata/Library/Python/3.9/lib/python/site-packages (from langsmith<0.2.0,>=0.1.112->langchain_community) (1.0.0)\n",
      "Requirement already satisfied: anyio<5,>=3.5.0 in /Users/rcarrata/Library/Python/3.9/lib/python/site-packages (from openai<2.0.0,>=1.40.0->langchain-openai) (4.6.2.post1)\n",
      "Requirement already satisfied: distro<2,>=1.7.0 in /Users/rcarrata/Library/Python/3.9/lib/python/site-packages (from openai<2.0.0,>=1.40.0->langchain-openai) (1.9.0)\n",
      "Requirement already satisfied: jiter<1,>=0.4.0 in /Users/rcarrata/Library/Python/3.9/lib/python/site-packages (from openai<2.0.0,>=1.40.0->langchain-openai) (0.7.1)\n",
      "Requirement already satisfied: tqdm>4 in /Users/rcarrata/Library/Python/3.9/lib/python/site-packages (from openai<2.0.0,>=1.40.0->langchain-openai) (4.67.1)\n",
      "Requirement already satisfied: tzdata>=2022.7 in /Users/rcarrata/Library/Python/3.9/lib/python/site-packages (from pandas>=1.3.0->yfinance) (2024.2)\n",
      "Requirement already satisfied: charset-normalizer<4,>=2 in /Users/rcarrata/Library/Python/3.9/lib/python/site-packages (from requests<3,>=2->langchain_community) (3.4.0)\n",
      "Requirement already satisfied: idna<4,>=2.5 in /Users/rcarrata/Library/Python/3.9/lib/python/site-packages (from requests<3,>=2->langchain_community) (3.10)\n",
      "Requirement already satisfied: urllib3<3,>=1.21.1 in /Users/rcarrata/Library/Python/3.9/lib/python/site-packages (from requests<3,>=2->langchain_community) (2.2.3)\n",
      "Requirement already satisfied: regex>=2022.1.18 in /Users/rcarrata/Library/Python/3.9/lib/python/site-packages (from tiktoken<1,>=0.7->langchain-openai) (2024.11.6)\n",
      "Requirement already satisfied: mypy-extensions>=0.4.3 in /Users/rcarrata/Library/Python/3.9/lib/python/site-packages (from black->openapi-python-client==0.12.3) (1.0.0)\n",
      "Requirement already satisfied: pathspec>=0.9.0 in /Users/rcarrata/Library/Python/3.9/lib/python/site-packages (from black->openapi-python-client==0.12.3) (0.12.1)\n",
      "Requirement already satisfied: exceptiongroup>=1.0.2 in /Users/rcarrata/Library/Python/3.9/lib/python/site-packages (from anyio<5,>=3.5.0->openai<2.0.0,>=1.40.0->langchain-openai) (1.2.2)\n",
      "Requirement already satisfied: h11<0.15,>=0.13 in /Users/rcarrata/Library/Python/3.9/lib/python/site-packages (from httpcore<0.17.0,>=0.15.0->httpx<0.24.0,>=0.15.4->openapi-python-client==0.12.3) (0.14.0)\n",
      "Requirement already satisfied: jsonpointer>=1.9 in /Users/rcarrata/Library/Python/3.9/lib/python/site-packages (from jsonpatch<2.0,>=1.33->langchain-core<0.3.0,>=0.2.40->langchain-openai) (3.0.0)\n",
      "\n",
      "\u001b[1m[\u001b[0m\u001b[34;49mnotice\u001b[0m\u001b[1;39;49m]\u001b[0m\u001b[39;49m A new release of pip is available: \u001b[0m\u001b[31;49m23.3.1\u001b[0m\u001b[39;49m -> \u001b[0m\u001b[32;49m24.3.1\u001b[0m\n",
      "\u001b[1m[\u001b[0m\u001b[34;49mnotice\u001b[0m\u001b[1;39;49m]\u001b[0m\u001b[39;49m To update, run: \u001b[0m\u001b[32;49m/Library/Developer/CommandLineTools/usr/bin/python3 -m pip install --upgrade pip\u001b[0m\n"
     ]
    }
   ],
   "source": [
    "!pip install langchain-openai termcolor langchain_community duckduckgo_search wikipedia openapi-python-client==0.12.3 langgraph langchain_experimental yfinance"
   ]
  },
  {
   "cell_type": "markdown",
   "id": "0022f3fb-ee50-40f2-b276-b8194668e49e",
   "metadata": {},
   "source": [
    "## 1. Setup"
   ]
  },
  {
   "cell_type": "code",
   "execution_count": 2,
   "id": "60bb3f0f-40b5-49a6-b493-5e361db0113e",
   "metadata": {
    "tags": []
   },
   "outputs": [
    {
     "name": "stderr",
     "output_type": "stream",
     "text": [
      "/Users/rcarrata/Library/Python/3.9/lib/python/site-packages/urllib3/__init__.py:35: NotOpenSSLWarning: urllib3 v2 only supports OpenSSL 1.1.1+, currently the 'ssl' module is compiled with 'LibreSSL 2.8.3'. See: https://github.com/urllib3/urllib3/issues/3020\n",
      "  warnings.warn(\n"
     ]
    }
   ],
   "source": [
    "# Imports\n",
    "import os\n",
    "import json\n",
    "from langchain.chains import ConversationChain\n",
    "from langchain.memory import ConversationBufferMemory\n",
    "from langchain.chains import LLMChain\n",
    "#from langchain_community.llms import VLLMOpenAI\n",
    "from langchain_openai import ChatOpenAI\n",
    "from langchain.callbacks.streaming_stdout import StreamingStdOutCallbackHandler\n",
    "from langchain.prompts import PromptTemplate\n",
    "from langchain_core.messages import BaseMessage\n",
    "from typing_extensions import TypedDict\n",
    "\n",
    "from langgraph.graph import StateGraph, START, END\n",
    "from langgraph.graph.message import add_messages\n",
    "from langgraph.prebuilt import ToolNode, tools_condition"
   ]
  },
  {
   "cell_type": "markdown",
   "id": "484b7c62-ea7d-4fd3-adcf-847beee5c0fb",
   "metadata": {},
   "source": [
    "## 3. Model Configuration"
   ]
  },
  {
   "cell_type": "markdown",
   "id": "d94bf848-656e-49ee-bc1e-7c4d2474678d",
   "metadata": {},
   "source": [
    "#### Define the Inference Model Server specifics"
   ]
  },
  {
   "cell_type": "code",
   "execution_count": 3,
   "id": "7b908fd0-01dd-4ad2-b745-b3a4c56a7a7e",
   "metadata": {
    "tags": []
   },
   "outputs": [],
   "source": [
    "INFERENCE_SERVER_URL = \"http://localhost:59146\"\n",
    "MODEL_NAME = \"mistral-7b-instruct\"\n",
    "API_KEY= os.getenv('API_KEY')"
   ]
  },
  {
   "cell_type": "markdown",
   "id": "472b2f3f-ac23-4531-984b-6e8357233992",
   "metadata": {},
   "source": [
    "#### Create the LLM instance"
   ]
  },
  {
   "cell_type": "code",
   "execution_count": 4,
   "id": "01baa2b8-529d-455d-ad39-ef4a96dbaf97",
   "metadata": {
    "tags": []
   },
   "outputs": [],
   "source": [
    "llm = ChatOpenAI(\n",
    "    openai_api_key=\"None\",\n",
    "    openai_api_base= f\"{INFERENCE_SERVER_URL}/v1\",\n",
    "    model_name=MODEL_NAME,\n",
    "    top_p=0.92,\n",
    "    temperature=0.01,\n",
    "    max_tokens=512,\n",
    "    presence_penalty=1.03,\n",
    "    streaming=True,\n",
    "    callbacks=[StreamingStdOutCallbackHandler()]\n",
    ")"
   ]
  },
  {
   "cell_type": "code",
   "execution_count": 5,
   "id": "61f8bd4d-9e6d-40ba-aaec-2441da40683c",
   "metadata": {
    "tags": []
   },
   "outputs": [],
   "source": [
    "from typing import Annotated\n",
    "\n",
    "from typing_extensions import TypedDict\n",
    "\n",
    "from langgraph.graph import StateGraph, START, END\n",
    "from langgraph.graph.message import add_messages\n",
    "from langchain_core.tools import tool\n",
    "from langchain_experimental.utilities import PythonREPL\n",
    "import getpass\n",
    "import os\n",
    "\n",
    "\n",
    "def _set_env(var: str):\n",
    "    if not os.environ.get(var):\n",
    "        os.environ[var] = getpass.getpass(f\"{var}: \")"
   ]
  },
  {
   "cell_type": "markdown",
   "id": "70132439-184c-46bc-b3aa-098bd5310c1e",
   "metadata": {
    "tags": []
   },
   "source": [
    "## Define tools"
   ]
  },
  {
   "cell_type": "markdown",
   "id": "6ffca944-5ef0-430a-9abf-6fe93007e091",
   "metadata": {},
   "source": [
    "Sometimes, for complex calculations, rather than have an LLM generate the answer directly, it can be better to have the LLM generate code to calculate the answer, and then run that code to get the answer. In order to easily do that, we provide a simple Python REPL to execute commands in."
   ]
  },
  {
   "cell_type": "code",
   "execution_count": 6,
   "id": "192a9964-44cb-4095-8c4b-bb7e36753b07",
   "metadata": {
    "tags": []
   },
   "outputs": [],
   "source": [
    "repl = PythonREPL()\n",
    "\n",
    "\n",
    "@tool\n",
    "def python_repl(\n",
    "    code: Annotated[str, \"The python code to execute to generate your calculations.\"],\n",
    "):\n",
    "    \"\"\"Use this to execute python code. \n",
    "    Execute the code if it's necessary, but give the final result calculated. \n",
    "    Don't show the code\n",
    "    If it's needed, search first online\n",
    "    Your result if calculate is not give the code, is to provide the final result\n",
    "    \"\"\"\n",
    "    try:\n",
    "        result = repl.run(code)\n",
    "    except BaseException as e:\n",
    "        return f\"Failed to execute. Error: {repr(e)}\"\n",
    "    result_str = f\"Successfully executed:\\n\\`\\`\\`python\\n{code}\\n\\`\\`\\`\\nStdout: {result}\"\n",
    "    return (\n",
    "        result_str + \"\\n\\nIf you have completed all tasks, respond with FINAL ANSWER.\"\n",
    "    )\n",
    "\n",
    "from langchain_community.tools import DuckDuckGoSearchRun\n",
    "\n",
    "# Initialize DuckDuckGo Search Tool\n",
    "duckduckgo_search = DuckDuckGoSearchRun()"
   ]
  },
  {
   "cell_type": "code",
   "execution_count": 7,
   "id": "81154c2a-abe2-42cd-88f7-9777007895ae",
   "metadata": {
    "tags": []
   },
   "outputs": [],
   "source": [
    "from langgraph.prebuilt import ToolNode\n",
    "\n",
    "tools = [python_repl, duckduckgo_search]"
   ]
  },
  {
   "cell_type": "code",
   "execution_count": 8,
   "id": "19f30dac-6b3f-4731-8640-47dca14aeb11",
   "metadata": {
    "tags": []
   },
   "outputs": [],
   "source": [
    "llm_with_tools = llm.bind_tools(tools)\n"
   ]
  },
  {
   "cell_type": "markdown",
   "id": "e45b4553-ec99-4e9b-ab49-0836bc7b186a",
   "metadata": {
    "tags": []
   },
   "source": [
    "## Create graph"
   ]
  },
  {
   "cell_type": "code",
   "execution_count": 9,
   "id": "64d96fe7-b74d-4e93-af91-5ba2c5242fc7",
   "metadata": {
    "tags": []
   },
   "outputs": [],
   "source": [
    "from langchain_core.messages import (\n",
    "    BaseMessage,\n",
    "    HumanMessage,\n",
    "    ToolMessage,\n",
    ")\n",
    "from langchain_core.prompts import ChatPromptTemplate, MessagesPlaceholder\n",
    "\n",
    "from langgraph.graph import END, StateGraph, START\n",
    "\n",
    "class State(TypedDict):\n",
    "    messages: Annotated[list, add_messages]\n",
    "\n",
    "graph_builder = StateGraph(State)"
   ]
  },
  {
   "cell_type": "markdown",
   "id": "9c0939f8-7149-492b-8a36-fc09b838c54a",
   "metadata": {
    "tags": []
   },
   "source": [
    "### Define Edge Logic"
   ]
  },
  {
   "cell_type": "code",
   "execution_count": 10,
   "id": "e08b4c68-11b2-4407-8732-3093fbe4cf32",
   "metadata": {
    "tags": []
   },
   "outputs": [],
   "source": [
    "def chatbot(state: State):\n",
    "    return {\"messages\": [llm_with_tools.invoke(state[\"messages\"])]}"
   ]
  },
  {
   "cell_type": "code",
   "execution_count": 11,
   "id": "1128d826-bb1c-474c-b803-4f8ee93bf5ea",
   "metadata": {
    "tags": []
   },
   "outputs": [
    {
     "data": {
      "text/plain": [
       "<langgraph.graph.state.StateGraph at 0x10938d4c0>"
      ]
     },
     "execution_count": 11,
     "metadata": {},
     "output_type": "execute_result"
    }
   ],
   "source": [
    "graph_builder.add_node(\"chatbot\", chatbot)\n",
    "\n",
    "tool_node = ToolNode(tools)\n",
    "graph_builder.add_node(\"tools\", tool_node)"
   ]
  },
  {
   "cell_type": "markdown",
   "id": "d65cc159-a794-4304-922d-b46ac393266d",
   "metadata": {},
   "source": [
    "### Define Tool Node"
   ]
  },
  {
   "cell_type": "code",
   "execution_count": 12,
   "id": "6d8d03d3-cbe3-42ac-8a90-3ef612d57c41",
   "metadata": {
    "tags": []
   },
   "outputs": [
    {
     "data": {
      "text/plain": [
       "<langgraph.graph.state.StateGraph at 0x10938d4c0>"
      ]
     },
     "execution_count": 12,
     "metadata": {},
     "output_type": "execute_result"
    }
   ],
   "source": [
    "graph_builder.add_conditional_edges(\n",
    "    \"chatbot\",\n",
    "    tools_condition,\n",
    ")\n",
    "# Any time a tool is called, we return to the chatbot to decide the next step\n",
    "graph_builder.add_edge(\"tools\", \"chatbot\")\n",
    "graph_builder.add_edge(START, \"chatbot\")"
   ]
  },
  {
   "cell_type": "code",
   "execution_count": 13,
   "id": "f3ae4e2f-789e-43c0-93a7-30e4e74d4fc9",
   "metadata": {
    "tags": []
   },
   "outputs": [],
   "source": [
    "from langgraph.checkpoint.memory import MemorySaver\n",
    "\n",
    "memory = MemorySaver()"
   ]
  },
  {
   "cell_type": "code",
   "execution_count": 14,
   "id": "7dfc547b-142e-42f1-9bfc-d4a5b5a6d96d",
   "metadata": {
    "tags": []
   },
   "outputs": [],
   "source": [
    "graph = graph_builder.compile(checkpointer=memory)\n"
   ]
  },
  {
   "cell_type": "code",
   "execution_count": 15,
   "id": "3d4f4155-3efb-45e7-9bdc-9adfb7726ac5",
   "metadata": {
    "tags": []
   },
   "outputs": [
    {
     "data": {
      "image/jpeg": "[encoded data removed]",
      "text/plain": [
       "<IPython.core.display.Image object>"
      ]
     },
     "metadata": {},
     "output_type": "display_data"
    }
   ],
   "source": [
    "from IPython.display import Image, display\n",
    "\n",
    "try:\n",
    "    display(Image(graph.get_graph().draw_mermaid_png()))\n",
    "except Exception:\n",
    "    # This requires some extra dependencies and is optional\n",
    "    pass"
   ]
  },
  {
   "cell_type": "code",
   "execution_count": 16,
   "id": "dfbd1dc6-8d9e-4b89-bcfe-f2e465af3f67",
   "metadata": {
    "tags": []
   },
   "outputs": [],
   "source": [
    "config = {\"configurable\": {\"thread_id\": \"1\"}}"
   ]
  },
  {
   "cell_type": "code",
   "execution_count": 17,
   "id": "972ff209-c6a0-423e-bf37-7b6efde9c11e",
   "metadata": {
    "tags": []
   },
   "outputs": [
    {
     "name": "stdout",
     "output_type": "stream",
     "text": [
      "================================\u001b[1m Human Message \u001b[0m=================================\n",
      "\n",
      "Give me the top 3 Finantial Institutions in the S&P 500?\n",
      " Based on market capitalization as of February 2023, the top three financial institutions in the S&P 500 are:\n",
      "\n",
      "1. JPMorgan Chase & Co. (JPM): JPMorgan is a leading global financial services firm with operations in banking, markets, and asset management. As of February 2023, it has a market capitalization of over $470 billion, making it the largest financial institution in the S&P 500.\n",
      "\n",
      "2. Berkshire Hathaway Inc. (BRK-A): Berkshire Hathaway is an investment holding company chaired by legendary investor Warren Buffett. The conglomerate owns a diverse range of businesses, including insurance and financial services. With a market capitalization of over $650 billion as of February 2023, it ranks as the second-largest financial institution in the S&P 500.\n",
      "\n",
      "3. Bank of America Corporation (BAC): Bank of America is one of the largest banks in the world and provides a wide range of banking and financial services to individuals, corporations, and governments worldwide. As of February 2023, it has a market capitalization of over $345 billion, making it the third-largest financial institution in the S&P 500.\n",
      "\n",
      "Note: Market capitalization is calculated by multiplying the total number of shares outstanding by the current stock price. This ranking may change as the stock prices fluctuate and market conditions evolve over time.==================================\u001b[1m Ai Message \u001b[0m==================================\n",
      "\n",
      " Based on market capitalization as of February 2023, the top three financial institutions in the S&P 500 are:\n",
      "\n",
      "1. JPMorgan Chase & Co. (JPM): JPMorgan is a leading global financial services firm with operations in banking, markets, and asset management. As of February 2023, it has a market capitalization of over $470 billion, making it the largest financial institution in the S&P 500.\n",
      "\n",
      "2. Berkshire Hathaway Inc. (BRK-A): Berkshire Hathaway is an investment holding company chaired by legendary investor Warren Buffett. The conglomerate owns a diverse range of businesses, including insurance and financial services. With a market capitalization of over $650 billion as of February 2023, it ranks as the second-largest financial institution in the S&P 500.\n",
      "\n",
      "3. Bank of America Corporation (BAC): Bank of America is one of the largest banks in the world and provides a wide range of banking and financial services to individuals, corporations, and governments worldwide. As of February 2023, it has a market capitalization of over $345 billion, making it the third-largest financial institution in the S&P 500.\n",
      "\n",
      "Note: Market capitalization is calculated by multiplying the total number of shares outstanding by the current stock price. This ranking may change as the stock prices fluctuate and market conditions evolve over time.\n"
     ]
    }
   ],
   "source": [
    "\n",
    "user_input = \"\"\"Give me the top 3 Finantial Institutions in the S&P 500?\"\"\"\n",
    "\n",
    "             \n",
    "# Start streaming the conversation\n",
    "events = graph.stream(\n",
    "    {\"messages\": [(\"user\", user_input)]}, config, stream_mode=\"values\"\n",
    ")\n",
    "\n",
    "# Track printed messages to avoid duplicates\n",
    "printed_messages = set()\n",
    "\n",
    "# Process each event and print only unique messages\n",
    "for event in events:\n",
    "    latest_message = event[\"messages\"][-1]\n",
    "    \n",
    "    # Only print if message content is new\n",
    "    if latest_message.content not in printed_messages:\n",
    "        printed_messages.add(latest_message.content)\n",
    "        latest_message.pretty_print()"
   ]
  },
  {
   "cell_type": "code",
   "execution_count": 18,
   "id": "58ac26e1-7776-4808-baec-a677d8547a42",
   "metadata": {
    "tags": []
   },
   "outputs": [
    {
     "name": "stdout",
     "output_type": "stream",
     "text": [
      "================================\u001b[1m Human Message \u001b[0m=================================\n",
      "\n",
      "Which market cap have the 3 top companies in the S&P500. Give me the code to calculate it\n",
      " To find the current market capitalization (market cap) of each of the top three companies in the S&P 500 as of February 2023, you can use the following Python code:\n",
      "```python\n",
      "import yfinance as yf\n",
      "\n",
      "# Define list of ticker symbols for the top three financial institutions\n",
      "tickers = ['JPM', 'BRK-A', 'BAC']\n",
      "\n",
      "# Use Yahoo Finance to fetch latest stock prices and total number of shares outstanding\n",
      "data = yf.download(tickers, start='2023-01-01', end='2023-02-28')['Adj Close']\n",
      "shares_outstanding = [4,759.62e6, 712.95e6, 0.919e11] # approximate number of shares outstanding as of February 2023 for each company\n",
      "\n",
      "# Calculate market capitalization for each company\n",
      "market_caps = [x * y for x, y in zip(data.iloc[-1], shares_outstanding)]\n",
      "\n",
      "print(\"Market Capitalizations (in billions):\")\n",
      "for i, ticker in enumerate(tickers):\n",
      "    print(f\"{ticker}: ${round(market_caps[i])}\")\n",
      "```\n",
      "Keep in mind that the market cap data may not be 100% accurate as this code uses approximate share counts and relies on Yahoo Finance for stock prices, which might have some delay or discrepancies. For up-to-date and precise information, it is recommended to consult a reliable financial database or website specializing in market capitalization data.==================================\u001b[1m Ai Message \u001b[0m==================================\n",
      "\n",
      " To find the current market capitalization (market cap) of each of the top three companies in the S&P 500 as of February 2023, you can use the following Python code:\n",
      "```python\n",
      "import yfinance as yf\n",
      "\n",
      "# Define list of ticker symbols for the top three financial institutions\n",
      "tickers = ['JPM', 'BRK-A', 'BAC']\n",
      "\n",
      "# Use Yahoo Finance to fetch latest stock prices and total number of shares outstanding\n",
      "data = yf.download(tickers, start='2023-01-01', end='2023-02-28')['Adj Close']\n",
      "shares_outstanding = [4,759.62e6, 712.95e6, 0.919e11] # approximate number of shares outstanding as of February 2023 for each company\n",
      "\n",
      "# Calculate market capitalization for each company\n",
      "market_caps = [x * y for x, y in zip(data.iloc[-1], shares_outstanding)]\n",
      "\n",
      "print(\"Market Capitalizations (in billions):\")\n",
      "for i, ticker in enumerate(tickers):\n",
      "    print(f\"{ticker}: ${round(market_caps[i])}\")\n",
      "```\n",
      "Keep in mind that the market cap data may not be 100% accurate as this code uses approximate share counts and relies on Yahoo Finance for stock prices, which might have some delay or discrepancies. For up-to-date and precise information, it is recommended to consult a reliable financial database or website specializing in market capitalization data.\n"
     ]
    }
   ],
   "source": [
    "user_input = \"Which market cap have the 3 top companies in the S&P500. Give me the code to calculate it\"\n",
    "             \n",
    "# Start streaming the conversation\n",
    "events = graph.stream(\n",
    "    {\"messages\": [(\"user\", user_input)]}, config, stream_mode=\"values\"\n",
    ")\n",
    "# Track printed messages to avoid duplicates\n",
    "printed_messages = set()\n",
    "\n",
    "# Process each event and print only unique messages\n",
    "for event in events:\n",
    "    latest_message = event[\"messages\"][-1]\n",
    "    \n",
    "    # Only print if message content is new\n",
    "    if latest_message.content not in printed_messages:\n",
    "        printed_messages.add(latest_message.content)\n",
    "        latest_message.pretty_print()"
   ]
  },
  {
   "cell_type": "code",
   "execution_count": 19,
   "id": "8eb97935-7016-4847-b47f-b5aede9c6b82",
   "metadata": {
    "tags": []
   },
   "outputs": [
    {
     "name": "stdout",
     "output_type": "stream",
     "text": [
      "================================\u001b[1m Human Message \u001b[0m=================================\n",
      "\n",
      "Now explain me the code to calculate it\n",
      " In this Python code, we utilize the `yfinance` library to fetch historical price data for the top three financial institutions in the S&P 500: JPMorgan Chase & Co. (JPM), Berkshire Hathaway Inc. (BRK-A), and Bank of America Corporation (BAC).\n",
      "\n",
      "First, we import the `yfinance` library with the alias 'yf'. Then, we define a list containing their respective ticker symbols:\n",
      "```python\n",
      "import yfinance as yf\n",
      "tickers = ['JPM', 'BRK-A', 'BAC']\n",
      "```\n",
      "Next, we use the `download()` method from `yfinance` to fetch Adjusted Close prices for each company for the period between January 1, 2023, and February 28, 2023. We store this data into a DataFrame named 'data'.\n",
      "```python\n",
      "data = yf.download(tickers, start='2023-01-01', end='2023-02-28')['Adj Close']\n",
      "```\n",
      "We also define an approximate number of shares outstanding for each company as of February 2023:\n",
      "```python\n",
      "shares_outstanding = [475962000000, 712950000000, 919000000000]\n",
      "```\n",
      "With this information available, we can calculate the market capitalization (market cap) for each company by multiplying their most recent stock price with their shares outstanding:\n",
      "```python\n",
      "market_caps = [x * y for x, y in zip(data.iloc[-1], shares_outstanding)]\n",
      "```\n",
      "Here's a brief explanation of the `zip()` function and list comprehension used above:\n",
      "- The `zip()` function is employed to combine pairs of lists (tickets and their respective market cap values) into tuples. We use an empty list as the first argument for slicing purposes, so that it takes on the length of data (3 in this case). This allows us to access each pair's corresponding elements easily using indexing: `zip(data.iloc[-1], shares_outstanding)[0]` will return the first==================================\u001b[1m Ai Message \u001b[0m==================================\n",
      "\n",
      " In this Python code, we utilize the `yfinance` library to fetch historical price data for the top three financial institutions in the S&P 500: JPMorgan Chase & Co. (JPM), Berkshire Hathaway Inc. (BRK-A), and Bank of America Corporation (BAC).\n",
      "\n",
      "First, we import the `yfinance` library with the alias 'yf'. Then, we define a list containing their respective ticker symbols:\n",
      "```python\n",
      "import yfinance as yf\n",
      "tickers = ['JPM', 'BRK-A', 'BAC']\n",
      "```\n",
      "Next, we use the `download()` method from `yfinance` to fetch Adjusted Close prices for each company for the period between January 1, 2023, and February 28, 2023. We store this data into a DataFrame named 'data'.\n",
      "```python\n",
      "data = yf.download(tickers, start='2023-01-01', end='2023-02-28')['Adj Close']\n",
      "```\n",
      "We also define an approximate number of shares outstanding for each company as of February 2023:\n",
      "```python\n",
      "shares_outstanding = [475962000000, 712950000000, 919000000000]\n",
      "```\n",
      "With this information available, we can calculate the market capitalization (market cap) for each company by multiplying their most recent stock price with their shares outstanding:\n",
      "```python\n",
      "market_caps = [x * y for x, y in zip(data.iloc[-1], shares_outstanding)]\n",
      "```\n",
      "Here's a brief explanation of the `zip()` function and list comprehension used above:\n",
      "- The `zip()` function is employed to combine pairs of lists (tickets and their respective market cap values) into tuples. We use an empty list as the first argument for slicing purposes, so that it takes on the length of data (3 in this case). This allows us to access each pair's corresponding elements easily using indexing: `zip(data.iloc[-1], shares_outstanding)[0]` will return the first\n"
     ]
    }
   ],
   "source": [
    "user_input = \"Now explain me the code to calculate it\"\n",
    "             \n",
    "# Start streaming the conversation\n",
    "events = graph.stream(\n",
    "    {\"messages\": [(\"user\", user_input)]}, config, stream_mode=\"values\"\n",
    ")\n",
    "\n",
    "# Track printed messages to avoid duplicates\n",
    "printed_messages = set()\n",
    "\n",
    "# Process each event and print only unique messages\n",
    "for event in events:\n",
    "    latest_message = event[\"messages\"][-1]\n",
    "    \n",
    "    # Only print if message content is new\n",
    "    if latest_message.content not in printed_messages:\n",
    "        printed_messages.add(latest_message.content)\n",
    "        latest_message.pretty_print()"
   ]
  }
 ],
 "metadata": {
  "kernelspec": {
   "display_name": "Python 3.9",
   "language": "python",
   "name": "python3"
  },
  "language_info": {
   "codemirror_mode": {
    "name": "ipython",
    "version": 3
   },
   "file_extension": ".py",
   "mimetype": "text/x-python",
   "name": "python",
   "nbconvert_exporter": "python",
   "pygments_lexer": "ipython3",
   "version": "3.9.6"
  }
 },
 "nbformat": 4,
 "nbformat_minor": 5
}
